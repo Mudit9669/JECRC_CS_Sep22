{
 "cells": [
  {
   "cell_type": "code",
   "execution_count": 1,
   "id": "d8188201-951d-42cd-a321-53fbe7bc2ec6",
   "metadata": {},
   "outputs": [],
   "source": [
    "import numpy"
   ]
  },
  {
   "cell_type": "code",
   "execution_count": 5,
   "id": "be887985-2eef-43c6-8eb2-30603cf16f3d",
   "metadata": {},
   "outputs": [
    {
     "data": {
      "text/plain": [
       "array([[1, 2, 3],\n",
       "       [4, 5, 6],\n",
       "       [7, 8, 9]])"
      ]
     },
     "execution_count": 5,
     "metadata": {},
     "output_type": "execute_result"
    }
   ],
   "source": [
    "numpy.array([[1,2,3],[4,5,6],[7,8,9]])"
   ]
  },
  {
   "cell_type": "code",
   "execution_count": 3,
   "id": "b16af4ea-26ba-462e-959b-978ab5d1c978",
   "metadata": {},
   "outputs": [],
   "source": [
    "v=numpy.array([[1,2,3],[4,5,6],[7,8,9]])"
   ]
  },
  {
   "cell_type": "code",
   "execution_count": 4,
   "id": "6ca65663-357f-426e-8a74-ddb7d874c043",
   "metadata": {},
   "outputs": [
    {
     "data": {
      "text/plain": [
       "(3, 3)"
      ]
     },
     "execution_count": 4,
     "metadata": {},
     "output_type": "execute_result"
    }
   ],
   "source": [
    "v.shape"
   ]
  },
  {
   "cell_type": "code",
   "execution_count": 6,
   "id": "eafa6fe3-fe8f-41bc-bd90-44b8d84b32f4",
   "metadata": {},
   "outputs": [
    {
     "data": {
      "text/plain": [
       "array([4, 5, 6])"
      ]
     },
     "execution_count": 6,
     "metadata": {},
     "output_type": "execute_result"
    }
   ],
   "source": [
    "v[1]"
   ]
  },
  {
   "cell_type": "code",
   "execution_count": 7,
   "id": "f97a58ce-fcb4-4529-9e26-f5afb6124b7e",
   "metadata": {},
   "outputs": [
    {
     "data": {
      "text/plain": [
       "2"
      ]
     },
     "execution_count": 7,
     "metadata": {},
     "output_type": "execute_result"
    }
   ],
   "source": [
    "v[0][1]"
   ]
  },
  {
   "cell_type": "code",
   "execution_count": 8,
   "id": "f4e63654-d682-4975-9f2f-15331a4e54ba",
   "metadata": {},
   "outputs": [],
   "source": [
    "n=v"
   ]
  },
  {
   "cell_type": "code",
   "execution_count": 9,
   "id": "0261a0bf-db5e-4682-ae0b-26ef73b67c82",
   "metadata": {},
   "outputs": [
    {
     "data": {
      "text/plain": [
       "1"
      ]
     },
     "execution_count": 9,
     "metadata": {},
     "output_type": "execute_result"
    }
   ],
   "source": [
    "n[0,0]"
   ]
  },
  {
   "cell_type": "code",
   "execution_count": 10,
   "id": "6a366444-7f19-4dc8-b6ea-0175d06de64e",
   "metadata": {},
   "outputs": [
    {
     "data": {
      "text/plain": [
       "7"
      ]
     },
     "execution_count": 10,
     "metadata": {},
     "output_type": "execute_result"
    }
   ],
   "source": [
    "n[2,0]"
   ]
  },
  {
   "cell_type": "code",
   "execution_count": 11,
   "id": "bda97a1d-559d-4376-9478-84f10253a16d",
   "metadata": {},
   "outputs": [
    {
     "data": {
      "text/plain": [
       "6"
      ]
     },
     "execution_count": 11,
     "metadata": {},
     "output_type": "execute_result"
    }
   ],
   "source": [
    "n[1,2]"
   ]
  },
  {
   "cell_type": "code",
   "execution_count": 12,
   "id": "a291278a-77c0-4c6b-b11b-3fbe5ce6278a",
   "metadata": {},
   "outputs": [],
   "source": [
    "n=numpy.array([[1,2,3,4],[11,22,33,40],[5,7,9,90]])"
   ]
  },
  {
   "cell_type": "code",
   "execution_count": 13,
   "id": "8e1d9c41-9800-42b3-8cca-77232796b300",
   "metadata": {},
   "outputs": [
    {
     "data": {
      "text/plain": [
       "array([1, 2, 3, 4])"
      ]
     },
     "execution_count": 13,
     "metadata": {},
     "output_type": "execute_result"
    }
   ],
   "source": [
    "n[0,:]"
   ]
  },
  {
   "cell_type": "code",
   "execution_count": 24,
   "id": "92147ffe-cd0a-471e-8e9a-9a0b19528b37",
   "metadata": {},
   "outputs": [
    {
     "data": {
      "text/plain": [
       "array([1, 2])"
      ]
     },
     "execution_count": 24,
     "metadata": {},
     "output_type": "execute_result"
    }
   ],
   "source": [
    "n[0,0:2]"
   ]
  },
  {
   "cell_type": "code",
   "execution_count": 17,
   "id": "12ccda31-8219-4462-b120-3c19cd343875",
   "metadata": {},
   "outputs": [
    {
     "data": {
      "text/plain": [
       "array([5, 7])"
      ]
     },
     "execution_count": 17,
     "metadata": {},
     "output_type": "execute_result"
    }
   ],
   "source": [
    "n[2,:2]\n"
   ]
  },
  {
   "cell_type": "code",
   "execution_count": 16,
   "id": "df1db085-d304-4605-86a8-e862d1b6a593",
   "metadata": {},
   "outputs": [
    {
     "data": {
      "text/plain": [
       "array([[ 1,  2,  3,  4],\n",
       "       [11, 22, 33, 40],\n",
       "       [ 5,  7,  9, 90]])"
      ]
     },
     "execution_count": 16,
     "metadata": {},
     "output_type": "execute_result"
    }
   ],
   "source": [
    "n"
   ]
  },
  {
   "cell_type": "code",
   "execution_count": 18,
   "id": "6477944a-2de6-4562-ad66-29af163b9c62",
   "metadata": {},
   "outputs": [
    {
     "data": {
      "text/plain": [
       "(3, 4)"
      ]
     },
     "execution_count": 18,
     "metadata": {},
     "output_type": "execute_result"
    }
   ],
   "source": [
    "n.shape"
   ]
  },
  {
   "cell_type": "code",
   "execution_count": 19,
   "id": "d9f3d893-a638-4886-9ed7-f0fdb0dfbe4b",
   "metadata": {},
   "outputs": [
    {
     "data": {
      "text/plain": [
       "array([7, 9])"
      ]
     },
     "execution_count": 19,
     "metadata": {},
     "output_type": "execute_result"
    }
   ],
   "source": [
    "n[2,1:3]"
   ]
  },
  {
   "cell_type": "code",
   "execution_count": 20,
   "id": "48c682a4-fe2a-49ff-bbb9-83b1f3d485f3",
   "metadata": {},
   "outputs": [
    {
     "data": {
      "text/plain": [
       "array([2, 3])"
      ]
     },
     "execution_count": 20,
     "metadata": {},
     "output_type": "execute_result"
    }
   ],
   "source": [
    "n[0,1:3]"
   ]
  },
  {
   "cell_type": "code",
   "execution_count": 25,
   "id": "906769d9-353b-443c-bf5a-0215251ff5db",
   "metadata": {},
   "outputs": [
    {
     "data": {
      "text/plain": [
       "array([33, 40])"
      ]
     },
     "execution_count": 25,
     "metadata": {},
     "output_type": "execute_result"
    }
   ],
   "source": [
    "n[1,2:]"
   ]
  },
  {
   "cell_type": "code",
   "execution_count": 27,
   "id": "fcad7cf0-725e-46d3-a1eb-026d73c55eb7",
   "metadata": {},
   "outputs": [
    {
     "data": {
      "text/plain": [
       "array([[33, 40],\n",
       "       [ 9, 90]])"
      ]
     },
     "execution_count": 27,
     "metadata": {},
     "output_type": "execute_result"
    }
   ],
   "source": [
    "n[1:3,2:4]"
   ]
  },
  {
   "cell_type": "code",
   "execution_count": 28,
   "id": "648f658e-5d8f-4646-9c10-730f4a53ab7e",
   "metadata": {},
   "outputs": [
    {
     "data": {
      "text/plain": [
       "array([[33, 40],\n",
       "       [ 9, 90]])"
      ]
     },
     "execution_count": 28,
     "metadata": {},
     "output_type": "execute_result"
    }
   ],
   "source": [
    "n[1:,2:]"
   ]
  },
  {
   "cell_type": "markdown",
   "id": "b288c459-9f12-4107-8028-1909aa099272",
   "metadata": {},
   "source": [
    "#syntax=n[row,coloumn]\n"
   ]
  },
  {
   "cell_type": "code",
   "execution_count": 31,
   "id": "2be6e146-2acd-49a9-bcaf-42b0b0d25a71",
   "metadata": {},
   "outputs": [
    {
     "data": {
      "text/plain": [
       "array([], shape=(0, 1), dtype=int32)"
      ]
     },
     "execution_count": 31,
     "metadata": {},
     "output_type": "execute_result"
    }
   ],
   "source": [
    "n[3:,3:]"
   ]
  },
  {
   "cell_type": "code",
   "execution_count": 32,
   "id": "169697ae-ab18-49bd-a0a6-4d03f9d84b6e",
   "metadata": {},
   "outputs": [
    {
     "data": {
      "text/plain": [
       "array([11, 22])"
      ]
     },
     "execution_count": 32,
     "metadata": {},
     "output_type": "execute_result"
    }
   ],
   "source": [
    "n[1,:2]"
   ]
  },
  {
   "cell_type": "code",
   "execution_count": 33,
   "id": "f03e7321-e660-453e-97eb-3476f6f33bd6",
   "metadata": {},
   "outputs": [
    {
     "data": {
      "text/plain": [
       "array([33, 40])"
      ]
     },
     "execution_count": 33,
     "metadata": {},
     "output_type": "execute_result"
    }
   ],
   "source": [
    "n[1,2:]"
   ]
  },
  {
   "cell_type": "code",
   "execution_count": 34,
   "id": "80bd8e98-76ff-4018-8bbe-65cbe420e98f",
   "metadata": {},
   "outputs": [
    {
     "data": {
      "text/plain": [
       "array([3, 4])"
      ]
     },
     "execution_count": 34,
     "metadata": {},
     "output_type": "execute_result"
    }
   ],
   "source": [
    "n[0,2:]"
   ]
  },
  {
   "cell_type": "code",
   "execution_count": 35,
   "id": "8a5b6140-b957-4b38-8b01-f6937ce72790",
   "metadata": {},
   "outputs": [
    {
     "data": {
      "text/plain": [
       "array([4])"
      ]
     },
     "execution_count": 35,
     "metadata": {},
     "output_type": "execute_result"
    }
   ],
   "source": [
    "n[0,3:]"
   ]
  },
  {
   "cell_type": "code",
   "execution_count": 36,
   "id": "16a97e29-15ea-428a-bc18-30bf1541332e",
   "metadata": {},
   "outputs": [
    {
     "data": {
      "text/plain": [
       "array([40])"
      ]
     },
     "execution_count": 36,
     "metadata": {},
     "output_type": "execute_result"
    }
   ],
   "source": [
    "n[1,3:]"
   ]
  },
  {
   "cell_type": "code",
   "execution_count": 37,
   "id": "68fc7c76-1ad7-4d60-bb51-e5760764012a",
   "metadata": {},
   "outputs": [
    {
     "data": {
      "text/plain": [
       "array([[ 4],\n",
       "       [40],\n",
       "       [90]])"
      ]
     },
     "execution_count": 37,
     "metadata": {},
     "output_type": "execute_result"
    }
   ],
   "source": [
    "n[:,3:]"
   ]
  },
  {
   "cell_type": "code",
   "execution_count": 38,
   "id": "efb6b4a7-0f7c-40c5-9402-b963e868e48b",
   "metadata": {},
   "outputs": [],
   "source": [
    "x=list[range(5,51)]"
   ]
  },
  {
   "cell_type": "code",
   "execution_count": 39,
   "id": "f352ed24-a3c2-497a-9b6b-3d53a34f7077",
   "metadata": {},
   "outputs": [
    {
     "data": {
      "text/plain": [
       "list[range(5, 51)]"
      ]
     },
     "execution_count": 39,
     "metadata": {},
     "output_type": "execute_result"
    }
   ],
   "source": [
    "x"
   ]
  },
  {
   "cell_type": "code",
   "execution_count": 41,
   "id": "600f6e16-77c2-4847-83d3-0aba500f7623",
   "metadata": {},
   "outputs": [
    {
     "data": {
      "text/plain": [
       "[5,\n",
       " 6,\n",
       " 7,\n",
       " 8,\n",
       " 9,\n",
       " 10,\n",
       " 11,\n",
       " 12,\n",
       " 13,\n",
       " 14,\n",
       " 15,\n",
       " 16,\n",
       " 17,\n",
       " 18,\n",
       " 19,\n",
       " 20,\n",
       " 21,\n",
       " 22,\n",
       " 23,\n",
       " 24,\n",
       " 25,\n",
       " 26,\n",
       " 27,\n",
       " 28,\n",
       " 29,\n",
       " 30,\n",
       " 31,\n",
       " 32,\n",
       " 33,\n",
       " 34,\n",
       " 35,\n",
       " 36,\n",
       " 37,\n",
       " 38,\n",
       " 39,\n",
       " 40,\n",
       " 41,\n",
       " 42,\n",
       " 43,\n",
       " 44,\n",
       " 45,\n",
       " 46,\n",
       " 47,\n",
       " 48,\n",
       " 49,\n",
       " 50]"
      ]
     },
     "execution_count": 41,
     "metadata": {},
     "output_type": "execute_result"
    }
   ],
   "source": [
    "list(range(5,51))"
   ]
  },
  {
   "cell_type": "code",
   "execution_count": 42,
   "id": "06c0277c-5126-48e9-9d30-c812dd5a2a39",
   "metadata": {},
   "outputs": [],
   "source": [
    "x=list(range(5,51))"
   ]
  },
  {
   "cell_type": "code",
   "execution_count": 43,
   "id": "30956cb2-4cc1-473e-86d3-cef493e4277b",
   "metadata": {},
   "outputs": [],
   "source": [
    "import numpy as np"
   ]
  },
  {
   "cell_type": "code",
   "execution_count": 45,
   "id": "ec1f5301-bd88-41e6-b65b-3eb5a8b861cd",
   "metadata": {},
   "outputs": [
    {
     "data": {
      "text/plain": [
       "array([ 5,  6,  7,  8,  9, 10, 11, 12, 13, 14, 15, 16, 17, 18, 19, 20, 21,\n",
       "       22, 23, 24, 25, 26, 27, 28, 29, 30, 31, 32, 33, 34, 35, 36, 37, 38,\n",
       "       39, 40, 41, 42, 43, 44, 45, 46, 47, 48, 49, 50])"
      ]
     },
     "execution_count": 45,
     "metadata": {},
     "output_type": "execute_result"
    }
   ],
   "source": [
    "np.arange(5,51)"
   ]
  },
  {
   "cell_type": "code",
   "execution_count": 46,
   "id": "4383c3c0-d310-4c67-b505-58c15f1d1bd0",
   "metadata": {},
   "outputs": [
    {
     "data": {
      "text/plain": [
       "array([ 5.5,  6.5,  7.5,  8.5,  9.5, 10.5, 11.5, 12.5, 13.5, 14.5, 15.5,\n",
       "       16.5, 17.5, 18.5, 19.5, 20.5, 21.5, 22.5, 23.5, 24.5, 25.5, 26.5,\n",
       "       27.5, 28.5, 29.5, 30.5, 31.5, 32.5, 33.5, 34.5, 35.5, 36.5, 37.5,\n",
       "       38.5, 39.5, 40.5, 41.5, 42.5, 43.5, 44.5, 45.5, 46.5, 47.5, 48.5,\n",
       "       49.5, 50.5, 51.5])"
      ]
     },
     "execution_count": 46,
     "metadata": {},
     "output_type": "execute_result"
    }
   ],
   "source": [
    "np.arange(5.5,52.3)"
   ]
  },
  {
   "cell_type": "markdown",
   "id": "4479f72e-d9b6-4c0a-805e-95dc773f674e",
   "metadata": {},
   "source": [
    "#reshape"
   ]
  },
  {
   "cell_type": "markdown",
   "id": "79dc7ea8-025b-4b6d-81a6-ca2cf43402ca",
   "metadata": {},
   "source": [
    "# reshape"
   ]
  },
  {
   "cell_type": "code",
   "execution_count": 47,
   "id": "34a7d462-7fd3-42e7-9841-e5a86b8b1626",
   "metadata": {},
   "outputs": [
    {
     "data": {
      "text/plain": [
       "array([ 0,  1,  2,  3,  4,  5,  6,  7,  8,  9, 10, 11])"
      ]
     },
     "execution_count": 47,
     "metadata": {},
     "output_type": "execute_result"
    }
   ],
   "source": [
    "np.arange(12)"
   ]
  },
  {
   "cell_type": "code",
   "execution_count": 48,
   "id": "0d174f22-c0ea-45b9-bff9-bbe7885f493c",
   "metadata": {},
   "outputs": [
    {
     "data": {
      "text/plain": [
       "array([[ 0,  1,  2],\n",
       "       [ 3,  4,  5],\n",
       "       [ 6,  7,  8],\n",
       "       [ 9, 10, 11]])"
      ]
     },
     "execution_count": 48,
     "metadata": {},
     "output_type": "execute_result"
    }
   ],
   "source": [
    "np.arange(12).reshape(4,3)"
   ]
  },
  {
   "cell_type": "code",
   "execution_count": 53,
   "id": "3979a32d-fbfb-4a76-97c3-911161a387f6",
   "metadata": {},
   "outputs": [],
   "source": [
    "z=np.arange(20).reshape(5,4)"
   ]
  },
  {
   "cell_type": "code",
   "execution_count": 54,
   "id": "b4315d0b-1cce-4f62-94b1-78ea84efe20e",
   "metadata": {},
   "outputs": [
    {
     "data": {
      "text/plain": [
       "array([[ 0,  1,  2,  3],\n",
       "       [ 4,  5,  6,  7],\n",
       "       [ 8,  9, 10, 11],\n",
       "       [12, 13, 14, 15],\n",
       "       [16, 17, 18, 19]])"
      ]
     },
     "execution_count": 54,
     "metadata": {},
     "output_type": "execute_result"
    }
   ],
   "source": [
    "z"
   ]
  },
  {
   "cell_type": "code",
   "execution_count": 55,
   "id": "2997908b-34a4-4316-8530-9ea28cef0c63",
   "metadata": {},
   "outputs": [
    {
     "data": {
      "text/plain": [
       "9.0"
      ]
     },
     "execution_count": 55,
     "metadata": {},
     "output_type": "execute_result"
    }
   ],
   "source": [
    "np.sqrt(81)"
   ]
  },
  {
   "cell_type": "code",
   "execution_count": 58,
   "id": "c17c9391-56fb-420a-a7b5-d1a730fd321c",
   "metadata": {},
   "outputs": [
    {
     "data": {
      "text/plain": [
       "19"
      ]
     },
     "execution_count": 58,
     "metadata": {},
     "output_type": "execute_result"
    }
   ],
   "source": [
    "z.max()"
   ]
  },
  {
   "cell_type": "code",
   "execution_count": 59,
   "id": "6318fea7-561f-40c3-8ec6-a2b902ebfbf4",
   "metadata": {},
   "outputs": [
    {
     "data": {
      "text/plain": [
       "19"
      ]
     },
     "execution_count": 59,
     "metadata": {},
     "output_type": "execute_result"
    }
   ],
   "source": [
    "z.argmax()"
   ]
  },
  {
   "cell_type": "code",
   "execution_count": 60,
   "id": "fbc069bd-839b-4305-8c96-2cee9e415db1",
   "metadata": {},
   "outputs": [
    {
     "data": {
      "text/plain": [
       "11"
      ]
     },
     "execution_count": 60,
     "metadata": {},
     "output_type": "execute_result"
    }
   ],
   "source": [
    "n.argmax()"
   ]
  },
  {
   "cell_type": "code",
   "execution_count": 61,
   "id": "d8b76fd8-a9d9-4e66-bf20-8f614e11262b",
   "metadata": {},
   "outputs": [
    {
     "data": {
      "text/plain": [
       "90"
      ]
     },
     "execution_count": 61,
     "metadata": {},
     "output_type": "execute_result"
    }
   ],
   "source": [
    "n.max()"
   ]
  },
  {
   "cell_type": "code",
   "execution_count": 62,
   "id": "0410b30f-def9-459c-988f-aa5b822852b2",
   "metadata": {},
   "outputs": [
    {
     "data": {
      "text/plain": [
       "0"
      ]
     },
     "execution_count": 62,
     "metadata": {},
     "output_type": "execute_result"
    }
   ],
   "source": [
    "n.argmin()"
   ]
  },
  {
   "cell_type": "code",
   "execution_count": 63,
   "id": "8e8ba62d-8aec-4a6f-b2c0-0b93ad38335e",
   "metadata": {},
   "outputs": [
    {
     "data": {
      "text/plain": [
       "1"
      ]
     },
     "execution_count": 63,
     "metadata": {},
     "output_type": "execute_result"
    }
   ],
   "source": [
    "n.min()"
   ]
  },
  {
   "cell_type": "code",
   "execution_count": 65,
   "id": "3efc9fb0-62c5-443f-8131-42a68dc81545",
   "metadata": {},
   "outputs": [
    {
     "data": {
      "text/plain": [
       "array([[ 0,  2,  4,  6],\n",
       "       [ 8, 10, 12, 14],\n",
       "       [16, 18, 20, 22],\n",
       "       [24, 26, 28, 30],\n",
       "       [32, 34, 36, 38]])"
      ]
     },
     "execution_count": 65,
     "metadata": {},
     "output_type": "execute_result"
    }
   ],
   "source": [
    "z*2"
   ]
  },
  {
   "cell_type": "markdown",
   "id": "8dace6b6-19c5-4637-bcea-dd0a47c2b05d",
   "metadata": {},
   "source": [
    "# RANDOM"
   ]
  },
  {
   "cell_type": "code",
   "execution_count": 67,
   "id": "dccf6928-0226-425f-ae2a-362a4c393360",
   "metadata": {},
   "outputs": [
    {
     "data": {
      "text/plain": [
       "array([[ 0.34639082, -1.35777325],\n",
       "       [-0.28221016,  2.06503917]])"
      ]
     },
     "execution_count": 67,
     "metadata": {},
     "output_type": "execute_result"
    }
   ],
   "source": [
    "np.random.randn(2,2)"
   ]
  },
  {
   "cell_type": "code",
   "execution_count": 68,
   "id": "29171b1e-84c5-427b-9530-bbe6853e8579",
   "metadata": {},
   "outputs": [
    {
     "data": {
      "text/plain": [
       "array([0.1322188 , 0.55468669])"
      ]
     },
     "execution_count": 68,
     "metadata": {},
     "output_type": "execute_result"
    }
   ],
   "source": [
    "np.random.rand(2)"
   ]
  },
  {
   "cell_type": "code",
   "execution_count": 69,
   "id": "092e16b1-b0f6-45d1-8b8c-2737853f4b70",
   "metadata": {},
   "outputs": [
    {
     "data": {
      "text/plain": [
       "array([49, 33, 15, 30, 18, 41, 57, 38, 19, 10, 26, 48])"
      ]
     },
     "execution_count": 69,
     "metadata": {},
     "output_type": "execute_result"
    }
   ],
   "source": [
    "np.random.randint(6,60,12)"
   ]
  },
  {
   "cell_type": "code",
   "execution_count": 70,
   "id": "e1ed7cd1-a606-4704-adde-6163cad72e69",
   "metadata": {},
   "outputs": [],
   "source": [
    "a=np.random.randint(6,60,12)"
   ]
  },
  {
   "cell_type": "code",
   "execution_count": 72,
   "id": "943c9b15-95fc-4781-8171-b46d5c2076ec",
   "metadata": {},
   "outputs": [
    {
     "data": {
      "text/plain": [
       "array([[24, 24],\n",
       "       [35, 56],\n",
       "       [44, 44],\n",
       "       [43, 12],\n",
       "       [28, 12],\n",
       "       [37, 21]])"
      ]
     },
     "execution_count": 72,
     "metadata": {},
     "output_type": "execute_result"
    }
   ],
   "source": [
    "a.reshape(6,2)"
   ]
  },
  {
   "cell_type": "code",
   "execution_count": 73,
   "id": "7852cd72-be80-4102-8596-d6f1981624d2",
   "metadata": {},
   "outputs": [
    {
     "data": {
      "text/plain": [
       "380"
      ]
     },
     "execution_count": 73,
     "metadata": {},
     "output_type": "execute_result"
    }
   ],
   "source": [
    "a.sum()"
   ]
  },
  {
   "cell_type": "code",
   "execution_count": 75,
   "id": "db222f9b-8b80-44c9-9701-773bac7530f4",
   "metadata": {},
   "outputs": [
    {
     "data": {
      "text/plain": [
       "380"
      ]
     },
     "execution_count": 75,
     "metadata": {},
     "output_type": "execute_result"
    }
   ],
   "source": [
    "a.sum(axis=0)"
   ]
  },
  {
   "cell_type": "code",
   "execution_count": 77,
   "id": "38ce92f8-b0e2-4214-86d7-8ba412c617fc",
   "metadata": {},
   "outputs": [],
   "source": [
    "s=np.array([[[1,2,3,7],[4,5,6,5],[1,2,3,4]],[[4,3,2],[4,3,2]]])"
   ]
  },
  {
   "cell_type": "code",
   "execution_count": 78,
   "id": "3213ac21-f0ce-472c-814e-2807445cb9e9",
   "metadata": {},
   "outputs": [
    {
     "data": {
      "text/plain": [
       "array([[[1, 2, 3],\n",
       "        [4, 5, 6]],\n",
       "\n",
       "       [[4, 3, 2],\n",
       "        [4, 3, 2]]])"
      ]
     },
     "execution_count": 78,
     "metadata": {},
     "output_type": "execute_result"
    }
   ],
   "source": [
    "s"
   ]
  },
  {
   "cell_type": "code",
   "execution_count": 79,
   "id": "068f0cff-a273-4048-a8f9-85842617cacb",
   "metadata": {},
   "outputs": [
    {
     "data": {
      "text/plain": [
       "(2, 2, 3)"
      ]
     },
     "execution_count": 79,
     "metadata": {},
     "output_type": "execute_result"
    }
   ],
   "source": [
    "s.shape"
   ]
  },
  {
   "cell_type": "code",
   "execution_count": 87,
   "id": "5ad2a3c6-ac02-47cd-bb85-7891a7b18e55",
   "metadata": {},
   "outputs": [],
   "source": [
    "s=np.array([[[1,2,3,7],[4,5,6,5],[1,2,3,4]],[[4,3,2,6],[4,3,2,0],[1,2,3,4]],[[1,2,3,4],[1,2,3,4],[1,2,3,4]]])"
   ]
  },
  {
   "cell_type": "code",
   "execution_count": 81,
   "id": "a84c0e0d-1d94-4a11-bc25-d9c06c06dabd",
   "metadata": {},
   "outputs": [
    {
     "data": {
      "text/plain": [
       "(3, 3, 4)"
      ]
     },
     "execution_count": 81,
     "metadata": {},
     "output_type": "execute_result"
    }
   ],
   "source": [
    "s.shape"
   ]
  },
  {
   "cell_type": "code",
   "execution_count": 82,
   "id": "6dcf7927-70d8-49ce-a5fa-5facef30e153",
   "metadata": {},
   "outputs": [
    {
     "data": {
      "text/plain": [
       "array([[[1, 2, 3, 7],\n",
       "        [4, 5, 6, 5],\n",
       "        [1, 2, 3, 4]],\n",
       "\n",
       "       [[4, 3, 2, 6],\n",
       "        [4, 3, 2, 0],\n",
       "        [1, 2, 3, 4]],\n",
       "\n",
       "       [[1, 2, 3, 4],\n",
       "        [1, 2, 3, 4],\n",
       "        [1, 2, 3, 4]]])"
      ]
     },
     "execution_count": 82,
     "metadata": {},
     "output_type": "execute_result"
    }
   ],
   "source": [
    "s"
   ]
  },
  {
   "cell_type": "code",
   "execution_count": 92,
   "id": "22ac170f-db48-406e-8e05-34a50144fd47",
   "metadata": {},
   "outputs": [],
   "source": [
    "s=np.array([[[1,2,3,7],[4,5,6,5],[1,2,3,4]],[[4,3,2,6],[4,3,2,0],[1,2,3,4]],[[1,2,3,4],[1,2,3,4],[1,2,3,4]]])"
   ]
  },
  {
   "cell_type": "code",
   "execution_count": 94,
   "id": "759e0abd-d725-41f4-b50d-22250e982259",
   "metadata": {},
   "outputs": [],
   "source": [
    "s=np.array([[[1,2,3,7],[4,5,6,5],[1,2,3,4]],[[4,3,2,6],[4,3,2,0],[1,2,3,4]],[[1,2,3,4],[1,2,3,4],[1,2,3,4]],[[1,2,3,4],[1,2,3,4],[1,2,3,4]]])"
   ]
  },
  {
   "cell_type": "code",
   "execution_count": 95,
   "id": "c3ab79a2-54f6-4298-874d-559d7a84540f",
   "metadata": {},
   "outputs": [
    {
     "data": {
      "text/plain": [
       "(4, 3, 4)"
      ]
     },
     "execution_count": 95,
     "metadata": {},
     "output_type": "execute_result"
    }
   ],
   "source": [
    "s.shape"
   ]
  },
  {
   "cell_type": "code",
   "execution_count": 96,
   "id": "1d77a15f-9d50-4daf-99b9-12d449ccdd5f",
   "metadata": {},
   "outputs": [
    {
     "data": {
      "text/plain": [
       "array([[[1, 2, 3, 7],\n",
       "        [4, 5, 6, 5],\n",
       "        [1, 2, 3, 4]],\n",
       "\n",
       "       [[4, 3, 2, 6],\n",
       "        [4, 3, 2, 0],\n",
       "        [1, 2, 3, 4]],\n",
       "\n",
       "       [[1, 2, 3, 4],\n",
       "        [1, 2, 3, 4],\n",
       "        [1, 2, 3, 4]],\n",
       "\n",
       "       [[1, 2, 3, 4],\n",
       "        [1, 2, 3, 4],\n",
       "        [1, 2, 3, 4]]])"
      ]
     },
     "execution_count": 96,
     "metadata": {},
     "output_type": "execute_result"
    }
   ],
   "source": [
    "s"
   ]
  },
  {
   "cell_type": "code",
   "execution_count": 101,
   "id": "5a63fc64-5594-475e-94c8-155bd18c4524",
   "metadata": {},
   "outputs": [],
   "source": [
    "import pandas"
   ]
  },
  {
   "cell_type": "code",
   "execution_count": null,
   "id": "3418bfb2-b03d-4f7e-883c-631cfbcff666",
   "metadata": {},
   "outputs": [],
   "source": []
  }
 ],
 "metadata": {
  "kernelspec": {
   "display_name": "Python 3 (ipykernel)",
   "language": "python",
   "name": "python3"
  },
  "language_info": {
   "codemirror_mode": {
    "name": "ipython",
    "version": 3
   },
   "file_extension": ".py",
   "mimetype": "text/x-python",
   "name": "python",
   "nbconvert_exporter": "python",
   "pygments_lexer": "ipython3",
   "version": "3.9.12"
  }
 },
 "nbformat": 4,
 "nbformat_minor": 5
}
