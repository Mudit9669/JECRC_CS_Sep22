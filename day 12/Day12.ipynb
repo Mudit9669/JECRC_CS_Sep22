{
 "cells": [
  {
   "cell_type": "code",
   "execution_count": 1,
   "id": "ab2a28ee-ff3d-4565-b60d-e9dd3f57b059",
   "metadata": {},
   "outputs": [
    {
     "ename": "SyntaxError",
     "evalue": "invalid syntax (1759721265.py, line 1)",
     "output_type": "error",
     "traceback": [
      "\u001b[1;36m  Input \u001b[1;32mIn [1]\u001b[1;36m\u001b[0m\n\u001b[1;33m    1. Pivot Table\u001b[0m\n\u001b[1;37m       ^\u001b[0m\n\u001b[1;31mSyntaxError\u001b[0m\u001b[1;31m:\u001b[0m invalid syntax\n"
     ]
    }
   ],
   "source": [
    "1. Pivot Table\n",
    "2. Pandas Concat\n",
    "3. Pandas Merge\n",
    "4. Pandas join"
   ]
  },
  {
   "cell_type": "code",
   "execution_count": 2,
   "id": "e0e7fdec-de8c-4904-a300-d99f4c7ccb7e",
   "metadata": {},
   "outputs": [],
   "source": [
    "import numpy as np\n",
    "import pandas as pd"
   ]
  },
  {
   "cell_type": "code",
   "execution_count": null,
   "id": "261d251d-72a0-4453-9789-386566ba7087",
   "metadata": {},
   "outputs": [],
   "source": [
    "data={'Country':['India','USA','Japan','China','India','USA'],\n",
    "     'Year':['2010','2010','2010','2015','2015','2015'],\n",
    "     'Continent':['Asia','NA','Asia','Asia','Asia','NA'],\n",
    "      'Value':[20,10,40,50,60,55],\n",
    "     }"
   ]
  },
  {
   "cell_type": "code",
   "execution_count": null,
   "id": "ecbca02b-82d9-4130-bbd5-4f6e494cc76b",
   "metadata": {},
   "outputs": [],
   "source": [
    "df =pd.DataFrame(data)"
   ]
  },
  {
   "cell_type": "code",
   "execution_count": null,
   "id": "e3bff01f-b093-412c-b0e5-216e5a55e420",
   "metadata": {},
   "outputs": [],
   "source": [
    "df"
   ]
  },
  {
   "cell_type": "markdown",
   "id": "753c6506-8073-45c6-98bd-ad44a51f1a89",
   "metadata": {},
   "source": [
    "# Pivot  Table"
   ]
  },
  {
   "cell_type": "code",
   "execution_count": null,
   "id": "1cd80152-8d4e-40ae-a400-59ca5f673f27",
   "metadata": {},
   "outputs": [],
   "source": [
    "pd.pivot_table(df,index=['Year'],aggfunc='sum')"
   ]
  },
  {
   "cell_type": "code",
   "execution_count": null,
   "id": "4e662d46-70a9-439b-a5ae-b2a355cc5a52",
   "metadata": {},
   "outputs": [],
   "source": [
    "pd.pivot_table(df,index=['Continent'],aggfunc='sum')"
   ]
  },
  {
   "cell_type": "markdown",
   "id": "1c24111c-4b2f-4023-8131-7ce0e9640307",
   "metadata": {},
   "source": [
    "# Concatenation\n",
    "## Concat"
   ]
  },
  {
   "cell_type": "code",
   "execution_count": null,
   "id": "8ed3ee1d-c897-4300-9a5e-27bf5fabad4f",
   "metadata": {},
   "outputs": [],
   "source": [
    "people1={'id':[1,2,3,4],\n",
    "        'name':['ab','rf','kl','ed'],\n",
    "        'age':[45,25,41,30]\n",
    "       }\n",
    "people2={'id':[11,22,33,44],\n",
    "        'name':['awd','rgf','kal','ekd'],\n",
    "        'age':[35,15,40,35]\n",
    "       }  \n",
    "people3 ={'id':[111,222,333,444],\n",
    "        'name':['oab','rnk','kml','ecd'],\n",
    "        'age':[55,75,81,50]\n",
    "       }"
   ]
  },
  {
   "cell_type": "code",
   "execution_count": null,
   "id": "d8907e5c-8561-4e9e-98ec-f70b689b2d92",
   "metadata": {},
   "outputs": [],
   "source": [
    "df1=pd.DataFrame(people1)\n",
    "df2=pd.DataFrame(people2)\n",
    "df3=pd.DataFrame(people3)\n"
   ]
  },
  {
   "cell_type": "code",
   "execution_count": null,
   "id": "192d5835-4e72-42e9-94ef-c07b7e5a7e64",
   "metadata": {},
   "outputs": [],
   "source": [
    "pd.concat([df1,df2,df3])"
   ]
  },
  {
   "cell_type": "code",
   "execution_count": null,
   "id": "c3552968-dac6-469e-bb0b-59cbb398ffcd",
   "metadata": {},
   "outputs": [],
   "source": [
    "pd.concat([df1,df2,df3],ignore_index=True)"
   ]
  },
  {
   "cell_type": "code",
   "execution_count": null,
   "id": "2dcd5ca6-7fb0-4c58-9afd-6bb78d797ff6",
   "metadata": {},
   "outputs": [],
   "source": [
    "pd.concat([df1,df2,df3],axis=1)"
   ]
  },
  {
   "cell_type": "code",
   "execution_count": null,
   "id": "a9d08170-9eee-4083-be85-d46e63d6012a",
   "metadata": {},
   "outputs": [],
   "source": [
    "people4={'id':[1,2,3,4],\n",
    "        'name':['ab','rf','kl','ed'],\n",
    "        'age':[45,25,41,30]\n",
    "       }\n",
    "people5={'id':[1,2,3,4],\n",
    "        'name':['ab','rf','kl','ed'],\n",
    "        'sales':[535,415,540,235]\n",
    "         \n",
    "       }  "
   ]
  },
  {
   "cell_type": "code",
   "execution_count": null,
   "id": "86fe8557-9eb4-4581-ac8e-952a928d6ba7",
   "metadata": {},
   "outputs": [],
   "source": [
    "df4=pd.DataFrame(people4)\n",
    "df5=pd.DataFrame(people5)"
   ]
  },
  {
   "cell_type": "code",
   "execution_count": null,
   "id": "8b5cb465-84f4-4742-a551-d823402d7b25",
   "metadata": {},
   "outputs": [],
   "source": [
    "pd.merge(df4,df5,on=['id','name'])"
   ]
  },
  {
   "cell_type": "code",
   "execution_count": null,
   "id": "bff3388e-c187-40cb-b32c-f746d4fa5f93",
   "metadata": {},
   "outputs": [],
   "source": [
    "pd.merge(df4,df5,on=['id'])"
   ]
  },
  {
   "cell_type": "markdown",
   "id": "c63dad52-7bf4-42eb-9e19-8ce63fb8c030",
   "metadata": {},
   "source": [
    "# Join"
   ]
  },
  {
   "cell_type": "code",
   "execution_count": null,
   "id": "0405e83b-0420-48f8-9e32-3a7163651e6e",
   "metadata": {},
   "outputs": [],
   "source": [
    "people6={'id':[1,2,3,4],\n",
    "        'name':['ab','rf','kl','ed'],\n",
    "        'age':[45,25,41,30]\n",
    "       }\n",
    "people7={\n",
    "        's_name':['b','r','l','d'],\n",
    "        'ph':[123535,417415,895540,365235]\n",
    "         \n",
    "       }  "
   ]
  },
  {
   "cell_type": "code",
   "execution_count": null,
   "id": "51f0402b-8a87-4350-86b7-9045956a113a",
   "metadata": {},
   "outputs": [],
   "source": [
    "df6=pd.DataFrame(people6)\n",
    "df7=pd.DataFrame(people7)"
   ]
  },
  {
   "cell_type": "code",
   "execution_count": null,
   "id": "e5d768fc-0d3d-43c6-af64-16c44f2cfa1b",
   "metadata": {},
   "outputs": [],
   "source": [
    "df6.join(df7)"
   ]
  },
  {
   "cell_type": "markdown",
   "id": "32531ba2-b384-4d67-8cdc-1a0295ccba13",
   "metadata": {},
   "source": [
    "# Reading tsv Files\n"
   ]
  },
  {
   "cell_type": "code",
   "execution_count": null,
   "id": "83069dc4-a5aa-452d-99ef-a3464dba13af",
   "metadata": {},
   "outputs": [],
   "source": [
    "d1=pd.read_csv('mytsv.tsv')\n",
    "d1"
   ]
  },
  {
   "cell_type": "code",
   "execution_count": null,
   "id": "0811eb5b-5d72-4559-b73d-2b2e4d11283f",
   "metadata": {},
   "outputs": [],
   "source": [
    "d1=pd.read_csv('mytsv.tsv',sep='\\t')\n",
    "d1"
   ]
  },
  {
   "cell_type": "markdown",
   "id": "50c4bac4-603f-4413-997d-441f8e4083bd",
   "metadata": {},
   "source": [
    "# Reading txt File"
   ]
  },
  {
   "cell_type": "code",
   "execution_count": null,
   "id": "7c024482-d770-4dac-acf1-bab324941f4d",
   "metadata": {},
   "outputs": [],
   "source": [
    "d2=pd.read_csv('mysemi.txt.txt')\n",
    "d2"
   ]
  },
  {
   "cell_type": "code",
   "execution_count": null,
   "id": "c20f78de-6320-46d3-840b-e6ab397cf748",
   "metadata": {},
   "outputs": [],
   "source": [
    "d2=pd.read_csv('mysemi.txt.txt',sep=';')\n",
    "d2"
   ]
  },
  {
   "cell_type": "markdown",
   "id": "8d1b50ca-a66f-4eca-937e-036780ccf930",
   "metadata": {},
   "source": [
    "# Creating a json file"
   ]
  },
  {
   "cell_type": "code",
   "execution_count": null,
   "id": "402d8a4f-b357-441e-8186-2b9640f7e8d0",
   "metadata": {},
   "outputs": [],
   "source": [
    "df6"
   ]
  },
  {
   "cell_type": "code",
   "execution_count": null,
   "id": "d5f86b5f-1ce2-4997-82f0-c4a468191d18",
   "metadata": {},
   "outputs": [],
   "source": [
    "df6.to_json('myjson.json')"
   ]
  },
  {
   "cell_type": "markdown",
   "id": "ba8ec8d7-0337-4666-bae8-18a588042f28",
   "metadata": {},
   "source": [
    "# To read from json file \n"
   ]
  },
  {
   "cell_type": "code",
   "execution_count": null,
   "id": "0dd84e91-9cb6-4238-8249-464f664a4f1f",
   "metadata": {},
   "outputs": [],
   "source": [
    "d4=pd.read_json('myjson.json')\n",
    "d4"
   ]
  },
  {
   "cell_type": "markdown",
   "id": "985eaa72-6d77-4bfd-8fe2-234ec1c2dbb0",
   "metadata": {},
   "source": [
    "# Creating csv file\n"
   ]
  },
  {
   "cell_type": "code",
   "execution_count": null,
   "id": "d14678cb-3498-46fc-9861-b300f72f43fa",
   "metadata": {},
   "outputs": [],
   "source": [
    "df5"
   ]
  },
  {
   "cell_type": "code",
   "execution_count": null,
   "id": "f9eea7d3-bb2e-4d9f-8da9-eceb6f705ab5",
   "metadata": {},
   "outputs": [],
   "source": [
    "df5.to_csv('myscvvv.csv')"
   ]
  },
  {
   "cell_type": "code",
   "execution_count": 3,
   "id": "66a4ec90-bfa6-452b-8585-32d47c1387bd",
   "metadata": {},
   "outputs": [],
   "source": [
    "d=pd.read_csv('movies.csv')"
   ]
  },
  {
   "cell_type": "code",
   "execution_count": 4,
   "id": "ec77f044-11c8-4741-bfbe-63a414c96dbc",
   "metadata": {},
   "outputs": [
    {
     "data": {
      "text/html": [
       "<div>\n",
       "<style scoped>\n",
       "    .dataframe tbody tr th:only-of-type {\n",
       "        vertical-align: middle;\n",
       "    }\n",
       "\n",
       "    .dataframe tbody tr th {\n",
       "        vertical-align: top;\n",
       "    }\n",
       "\n",
       "    .dataframe thead th {\n",
       "        text-align: right;\n",
       "    }\n",
       "</style>\n",
       "<table border=\"1\" class=\"dataframe\">\n",
       "  <thead>\n",
       "    <tr style=\"text-align: right;\">\n",
       "      <th></th>\n",
       "      <th>movieId</th>\n",
       "      <th>title</th>\n",
       "      <th>genres</th>\n",
       "    </tr>\n",
       "  </thead>\n",
       "  <tbody>\n",
       "    <tr>\n",
       "      <th>0</th>\n",
       "      <td>1</td>\n",
       "      <td>Toy Story (1995)</td>\n",
       "      <td>Adventure|Animation|Children|Comedy|Fantasy</td>\n",
       "    </tr>\n",
       "    <tr>\n",
       "      <th>1</th>\n",
       "      <td>2</td>\n",
       "      <td>Jumanji (1995)</td>\n",
       "      <td>Adventure|Children|Fantasy</td>\n",
       "    </tr>\n",
       "    <tr>\n",
       "      <th>2</th>\n",
       "      <td>3</td>\n",
       "      <td>Grumpier Old Men (1995)</td>\n",
       "      <td>Comedy|Romance</td>\n",
       "    </tr>\n",
       "    <tr>\n",
       "      <th>3</th>\n",
       "      <td>4</td>\n",
       "      <td>Waiting to Exhale (1995)</td>\n",
       "      <td>Comedy|Drama|Romance</td>\n",
       "    </tr>\n",
       "    <tr>\n",
       "      <th>4</th>\n",
       "      <td>5</td>\n",
       "      <td>Father of the Bride Part II (1995)</td>\n",
       "      <td>Comedy</td>\n",
       "    </tr>\n",
       "    <tr>\n",
       "      <th>...</th>\n",
       "      <td>...</td>\n",
       "      <td>...</td>\n",
       "      <td>...</td>\n",
       "    </tr>\n",
       "    <tr>\n",
       "      <th>9737</th>\n",
       "      <td>193581</td>\n",
       "      <td>Black Butler: Book of the Atlantic (2017)</td>\n",
       "      <td>Action|Animation|Comedy|Fantasy</td>\n",
       "    </tr>\n",
       "    <tr>\n",
       "      <th>9738</th>\n",
       "      <td>193583</td>\n",
       "      <td>No Game No Life: Zero (2017)</td>\n",
       "      <td>Animation|Comedy|Fantasy</td>\n",
       "    </tr>\n",
       "    <tr>\n",
       "      <th>9739</th>\n",
       "      <td>193585</td>\n",
       "      <td>Flint (2017)</td>\n",
       "      <td>Drama</td>\n",
       "    </tr>\n",
       "    <tr>\n",
       "      <th>9740</th>\n",
       "      <td>193587</td>\n",
       "      <td>Bungo Stray Dogs: Dead Apple (2018)</td>\n",
       "      <td>Action|Animation</td>\n",
       "    </tr>\n",
       "    <tr>\n",
       "      <th>9741</th>\n",
       "      <td>193609</td>\n",
       "      <td>Andrew Dice Clay: Dice Rules (1991)</td>\n",
       "      <td>Comedy</td>\n",
       "    </tr>\n",
       "  </tbody>\n",
       "</table>\n",
       "<p>9742 rows × 3 columns</p>\n",
       "</div>"
      ],
      "text/plain": [
       "      movieId                                      title  \\\n",
       "0           1                           Toy Story (1995)   \n",
       "1           2                             Jumanji (1995)   \n",
       "2           3                    Grumpier Old Men (1995)   \n",
       "3           4                   Waiting to Exhale (1995)   \n",
       "4           5         Father of the Bride Part II (1995)   \n",
       "...       ...                                        ...   \n",
       "9737   193581  Black Butler: Book of the Atlantic (2017)   \n",
       "9738   193583               No Game No Life: Zero (2017)   \n",
       "9739   193585                               Flint (2017)   \n",
       "9740   193587        Bungo Stray Dogs: Dead Apple (2018)   \n",
       "9741   193609        Andrew Dice Clay: Dice Rules (1991)   \n",
       "\n",
       "                                           genres  \n",
       "0     Adventure|Animation|Children|Comedy|Fantasy  \n",
       "1                      Adventure|Children|Fantasy  \n",
       "2                                  Comedy|Romance  \n",
       "3                            Comedy|Drama|Romance  \n",
       "4                                          Comedy  \n",
       "...                                           ...  \n",
       "9737              Action|Animation|Comedy|Fantasy  \n",
       "9738                     Animation|Comedy|Fantasy  \n",
       "9739                                        Drama  \n",
       "9740                             Action|Animation  \n",
       "9741                                       Comedy  \n",
       "\n",
       "[9742 rows x 3 columns]"
      ]
     },
     "execution_count": 4,
     "metadata": {},
     "output_type": "execute_result"
    }
   ],
   "source": [
    "d"
   ]
  },
  {
   "cell_type": "code",
   "execution_count": null,
   "id": "fc25c7bd-cdf8-444b-9077-37e0ccfce177",
   "metadata": {},
   "outputs": [],
   "source": []
  }
 ],
 "metadata": {
  "kernelspec": {
   "display_name": "Python 3 (ipykernel)",
   "language": "python",
   "name": "python3"
  },
  "language_info": {
   "codemirror_mode": {
    "name": "ipython",
    "version": 3
   },
   "file_extension": ".py",
   "mimetype": "text/x-python",
   "name": "python",
   "nbconvert_exporter": "python",
   "pygments_lexer": "ipython3",
   "version": "3.9.12"
  }
 },
 "nbformat": 4,
 "nbformat_minor": 5
}
