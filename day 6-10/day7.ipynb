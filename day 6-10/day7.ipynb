{
 "cells": [
  {
   "cell_type": "code",
   "execution_count": 1,
   "id": "0038abf7-bfc9-4819-9b25-91d1f2135c84",
   "metadata": {},
   "outputs": [],
   "source": [
    "import os"
   ]
  },
  {
   "cell_type": "code",
   "execution_count": 2,
   "id": "06fab65b-01e1-497f-b4b5-133d8f8419cf",
   "metadata": {},
   "outputs": [
    {
     "data": {
      "text/plain": [
       "'C:\\\\Users\\\\HP\\\\Desktop\\\\ML IT training'"
      ]
     },
     "execution_count": 2,
     "metadata": {},
     "output_type": "execute_result"
    }
   ],
   "source": [
    "os.getcwd()\n"
   ]
  },
  {
   "cell_type": "code",
   "execution_count": 3,
   "id": "b458c3d8-bb52-40bf-bb12-3a09bc924405",
   "metadata": {},
   "outputs": [
    {
     "ename": "AttributeError",
     "evalue": "module 'os' has no attribute 'chidr'",
     "output_type": "error",
     "traceback": [
      "\u001b[1;31m---------------------------------------------------------------------------\u001b[0m",
      "\u001b[1;31mAttributeError\u001b[0m                            Traceback (most recent call last)",
      "Input \u001b[1;32mIn [3]\u001b[0m, in \u001b[0;36m<cell line: 1>\u001b[1;34m()\u001b[0m\n\u001b[1;32m----> 1\u001b[0m \u001b[43mos\u001b[49m\u001b[38;5;241;43m.\u001b[39;49m\u001b[43mchidr\u001b[49m(\u001b[38;5;124m'\u001b[39m\u001b[38;5;124mC:\u001b[39m\u001b[38;5;130;01m\\\\\u001b[39;00m\u001b[38;5;124mUser\u001b[39m\u001b[38;5;130;01m\\\\\u001b[39;00m\u001b[38;5;124mHP\u001b[39m\u001b[38;5;130;01m\\\\\u001b[39;00m\u001b[38;5;124mDesktop\u001b[39m\u001b[38;5;130;01m\\\\\u001b[39;00m\u001b[38;5;124mML IT training\u001b[39m\u001b[38;5;124m'\u001b[39m)\n",
      "\u001b[1;31mAttributeError\u001b[0m: module 'os' has no attribute 'chidr'"
     ]
    }
   ],
   "source": [
    "os.chidr('C:\\\\User\\\\HP\\\\Desktop\\\\ML IT training')\n"
   ]
  },
  {
   "cell_type": "code",
   "execution_count": 4,
   "id": "7ea05008-f9ff-4ba7-8bef-655adf56bea6",
   "metadata": {},
   "outputs": [
    {
     "ename": "FileNotFoundError",
     "evalue": "[WinError 3] The system cannot find the path specified: 'C:\\\\User\\\\HP\\\\Desktop\\\\ML IT training'",
     "output_type": "error",
     "traceback": [
      "\u001b[1;31m---------------------------------------------------------------------------\u001b[0m",
      "\u001b[1;31mFileNotFoundError\u001b[0m                         Traceback (most recent call last)",
      "Input \u001b[1;32mIn [4]\u001b[0m, in \u001b[0;36m<cell line: 1>\u001b[1;34m()\u001b[0m\n\u001b[1;32m----> 1\u001b[0m \u001b[43mos\u001b[49m\u001b[38;5;241;43m.\u001b[39;49m\u001b[43mchdir\u001b[49m\u001b[43m(\u001b[49m\u001b[38;5;124;43m'\u001b[39;49m\u001b[38;5;124;43mC:\u001b[39;49m\u001b[38;5;130;43;01m\\\\\u001b[39;49;00m\u001b[38;5;124;43mUser\u001b[39;49m\u001b[38;5;130;43;01m\\\\\u001b[39;49;00m\u001b[38;5;124;43mHP\u001b[39;49m\u001b[38;5;130;43;01m\\\\\u001b[39;49;00m\u001b[38;5;124;43mDesktop\u001b[39;49m\u001b[38;5;130;43;01m\\\\\u001b[39;49;00m\u001b[38;5;124;43mML IT training\u001b[39;49m\u001b[38;5;124;43m'\u001b[39;49m\u001b[43m)\u001b[49m\n",
      "\u001b[1;31mFileNotFoundError\u001b[0m: [WinError 3] The system cannot find the path specified: 'C:\\\\User\\\\HP\\\\Desktop\\\\ML IT training'"
     ]
    }
   ],
   "source": [
    "os.chdir('C:\\\\User\\\\HP\\\\Desktop\\\\ML IT training')"
   ]
  },
  {
   "cell_type": "code",
   "execution_count": 5,
   "id": "af055d5f-8637-4361-b25e-cebf4aaa33aa",
   "metadata": {},
   "outputs": [],
   "source": [
    "os.chdir('C:\\\\Users\\\\HP\\\\Desktop\\\\ML IT training')\n"
   ]
  },
  {
   "cell_type": "code",
   "execution_count": 6,
   "id": "ce419c72-882e-46c8-9255-1dcbe3003da7",
   "metadata": {},
   "outputs": [
    {
     "data": {
      "text/plain": [
       "'C:\\\\Users\\\\HP\\\\Desktop\\\\ML IT training'"
      ]
     },
     "execution_count": 6,
     "metadata": {},
     "output_type": "execute_result"
    }
   ],
   "source": [
    "os.getcwd()"
   ]
  },
  {
   "cell_type": "code",
   "execution_count": 1,
   "id": "d4c6134d-b0ab-4924-9ae9-c382bbeb11d7",
   "metadata": {},
   "outputs": [
    {
     "ename": "NameError",
     "evalue": "name 'os' is not defined",
     "output_type": "error",
     "traceback": [
      "\u001b[1;31m---------------------------------------------------------------------------\u001b[0m",
      "\u001b[1;31mNameError\u001b[0m                                 Traceback (most recent call last)",
      "Input \u001b[1;32mIn [1]\u001b[0m, in \u001b[0;36m<cell line: 1>\u001b[1;34m()\u001b[0m\n\u001b[1;32m----> 1\u001b[0m \u001b[43mos\u001b[49m\u001b[38;5;241m.\u001b[39mlistdir(\u001b[38;5;124m'\u001b[39m\u001b[38;5;124mC:\u001b[39m\u001b[38;5;130;01m\\\\\u001b[39;00m\u001b[38;5;124mUsers\u001b[39m\u001b[38;5;130;01m\\\\\u001b[39;00m\u001b[38;5;124mHP\u001b[39m\u001b[38;5;130;01m\\\\\u001b[39;00m\u001b[38;5;124mDesktop\u001b[39m\u001b[38;5;130;01m\\\\\u001b[39;00m\u001b[38;5;124mML IT training\u001b[39m\u001b[38;5;124m'\u001b[39m)\n",
      "\u001b[1;31mNameError\u001b[0m: name 'os' is not defined"
     ]
    }
   ],
   "source": [
    "os.listdir('C:\\\\Users\\\\HP\\\\Desktop\\\\ML IT training')"
   ]
  },
  {
   "cell_type": "code",
   "execution_count": 2,
   "id": "9b5b5b76-5364-4c5f-8a34-c165492ffac7",
   "metadata": {},
   "outputs": [],
   "source": [
    "import os"
   ]
  },
  {
   "cell_type": "code",
   "execution_count": 3,
   "id": "4f2d0b28-778c-4f82-937d-fcdb7088d74a",
   "metadata": {},
   "outputs": [
    {
     "data": {
      "text/plain": [
       "['.idea',\n",
       " '.ipynb_checkpoints',\n",
       " 'day7.ipynb',\n",
       " 'func.py',\n",
       " 'loop.py',\n",
       " 'loop2.py',\n",
       " 'loop3.py',\n",
       " 'max.py',\n",
       " 'ml.py',\n",
       " 'mlit.txt',\n",
       " 'multi.py',\n",
       " 'new.py',\n",
       " 'new2.py',\n",
       " 'new3.py',\n",
       " 'new4.py',\n",
       " 'newjy.py',\n",
       " 'open.py',\n",
       " 'pr01.py',\n",
       " 'pr01.txt.txt',\n",
       " 'py2.py',\n",
       " 'shell.py',\n",
       " 'table2.py']"
      ]
     },
     "execution_count": 3,
     "metadata": {},
     "output_type": "execute_result"
    }
   ],
   "source": [
    "os.listdir('C:\\\\Users\\\\HP\\\\Desktop\\\\ML IT training')"
   ]
  },
  {
   "cell_type": "code",
   "execution_count": 4,
   "id": "a8725efe-a4a9-429a-b1f3-000c970a7ef0",
   "metadata": {},
   "outputs": [],
   "source": [
    "os.mkdir('Empty_folder')"
   ]
  },
  {
   "cell_type": "code",
   "execution_count": 5,
   "id": "f52df86b-731a-46e6-b7c9-563858a39cdc",
   "metadata": {},
   "outputs": [],
   "source": [
    "os.rmdir('Empty_folder')"
   ]
  },
  {
   "cell_type": "markdown",
   "id": "a6c625a5-d0ce-441e-8b66-b89c69904f9f",
   "metadata": {},
   "source": [
    "## random"
   ]
  },
  {
   "cell_type": "code",
   "execution_count": 6,
   "id": "4a08c0e2-1fc8-47eb-8eb8-8045a0745048",
   "metadata": {},
   "outputs": [],
   "source": [
    "import random"
   ]
  },
  {
   "cell_type": "code",
   "execution_count": 7,
   "id": "ab24e78f-2112-49c3-9fda-d75085810767",
   "metadata": {},
   "outputs": [
    {
     "ename": "AttributeError",
     "evalue": "module 'random' has no attribute 'num'",
     "output_type": "error",
     "traceback": [
      "\u001b[1;31m---------------------------------------------------------------------------\u001b[0m",
      "\u001b[1;31mAttributeError\u001b[0m                            Traceback (most recent call last)",
      "Input \u001b[1;32mIn [7]\u001b[0m, in \u001b[0;36m<cell line: 1>\u001b[1;34m()\u001b[0m\n\u001b[1;32m----> 1\u001b[0m \u001b[43mrandom\u001b[49m\u001b[38;5;241;43m.\u001b[39;49m\u001b[43mnum\u001b[49m()\n",
      "\u001b[1;31mAttributeError\u001b[0m: module 'random' has no attribute 'num'"
     ]
    }
   ],
   "source": [
    "random.num()"
   ]
  },
  {
   "cell_type": "code",
   "execution_count": 11,
   "id": "1f8e16d7-75c6-4a3d-8ad0-a30443dd05f7",
   "metadata": {},
   "outputs": [
    {
     "name": "stdout",
     "output_type": "stream",
     "text": [
      "0.6259211667195252\n"
     ]
    }
   ],
   "source": [
    "val=random.random()\n",
    "print(val)"
   ]
  },
  {
   "cell_type": "code",
   "execution_count": 17,
   "id": "74830131-a2a6-4309-b51b-58ee70115ba6",
   "metadata": {},
   "outputs": [
    {
     "name": "stdout",
     "output_type": "stream",
     "text": [
      "3\n"
     ]
    }
   ],
   "source": [
    "val2=random.randint(1,10)\n",
    "print(val2)"
   ]
  },
  {
   "cell_type": "code",
   "execution_count": 21,
   "id": "a630ffc9-bb07-4f23-a797-6174eba2c607",
   "metadata": {},
   "outputs": [
    {
     "name": "stdout",
     "output_type": "stream",
     "text": [
      "hello\n"
     ]
    }
   ],
   "source": [
    "m=['hi','hello','hayy','howdy']\n",
    "print(random.choice(m))"
   ]
  },
  {
   "cell_type": "code",
   "execution_count": 22,
   "id": "15e58d21-4d4c-4e87-8048-85877bf5bc2a",
   "metadata": {},
   "outputs": [
    {
     "name": "stdout",
     "output_type": "stream",
     "text": [
      "hi\n"
     ]
    }
   ],
   "source": [
    "print(random.choice(m))"
   ]
  },
  {
   "cell_type": "code",
   "execution_count": 25,
   "id": "4f4b3824-426d-4d80-8738-ef51d4530fd6",
   "metadata": {},
   "outputs": [
    {
     "name": "stdout",
     "output_type": "stream",
     "text": [
      "['hello', 'hi']\n"
     ]
    }
   ],
   "source": [
    "print(random.choices(m,k=2))"
   ]
  },
  {
   "cell_type": "code",
   "execution_count": 26,
   "id": "290c078e-3faa-40ee-9518-7c2fe1e4b40a",
   "metadata": {},
   "outputs": [],
   "source": [
    "random.shuffle(m)"
   ]
  },
  {
   "cell_type": "code",
   "execution_count": 27,
   "id": "e34a61e7-1a24-4a1e-8169-b1fab8b210b1",
   "metadata": {},
   "outputs": [
    {
     "data": {
      "text/plain": [
       "['howdy', 'hi', 'hayy', 'hello']"
      ]
     },
     "execution_count": 27,
     "metadata": {},
     "output_type": "execute_result"
    }
   ],
   "source": [
    "m"
   ]
  },
  {
   "cell_type": "code",
   "execution_count": 28,
   "id": "aa1e3b47-771c-41b3-aa44-e8b862e529c9",
   "metadata": {},
   "outputs": [],
   "source": [
    "import numpy"
   ]
  },
  {
   "cell_type": "code",
   "execution_count": null,
   "id": "2dba463a-6fc2-4c84-b5b3-909902df8445",
   "metadata": {},
   "outputs": [],
   "source": []
  }
 ],
 "metadata": {
  "kernelspec": {
   "display_name": "Python 3 (ipykernel)",
   "language": "python",
   "name": "python3"
  },
  "language_info": {
   "codemirror_mode": {
    "name": "ipython",
    "version": 3
   },
   "file_extension": ".py",
   "mimetype": "text/x-python",
   "name": "python",
   "nbconvert_exporter": "python",
   "pygments_lexer": "ipython3",
   "version": "3.9.12"
  }
 },
 "nbformat": 4,
 "nbformat_minor": 5
}
